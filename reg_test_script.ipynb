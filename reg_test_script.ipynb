{
 "cells": [
  {
   "cell_type": "code",
   "execution_count": 6,
   "metadata": {},
   "outputs": [],
   "source": [
    "import final_team13\n",
    "import pandas as pd\n",
    "import copy\n",
    "\n",
    "\n",
    "data = pd.read_csv('hotel-tas-test-regression.csv')\n",
    "nlp_data = copy.deepcopy(data)\n"
   ]
  },
  {
   "cell_type": "code",
   "execution_count": 7,
   "metadata": {},
   "outputs": [],
   "source": [
    "\n",
    "\n",
    "from sklearn.decomposition import PCA\n",
    "\n",
    "X = data.drop('Reviewer_Score', axis=1)\n",
    "import numpy as np\n",
    "\n",
    "Y = data['Reviewer_Score']\n",
    "cc_object = final_team13.preprocess(X, Y, data)\n",
    "cc_object.pipeline(draw=False)\n",
    "\n",
    "\"\"\"from sklearn.preprocessing import PolynomialFeatures\n",
    "poly = PolynomialFeatures(degree=2)\n",
    "X_poly = poly.transform(X)\"\"\"\n",
    "\n",
    "pca = PCA(n_components=4)\n",
    "X_reduced = pca.fit_transform(X)\n",
    "\n",
    "# pca fn: feat_trans\n",
    "\n",
    "X_with_zeros = np.hstack((np.zeros((X.shape[0], 1)), X))\n",
    "\n"
   ]
  },
  {
   "cell_type": "code",
   "execution_count": 8,
   "metadata": {},
   "outputs": [],
   "source": [
    "a=final_team13.load_model('reg_models/RandomForestRegressor.sav').predict(X_with_zeros)\n",
    "b=final_team13.load_model('reg_models/LinearRegression_pca.sav').predict(X_reduced)\n",
    "c=final_team13.load_model('reg_models/GradientBoostingRegressor.sav').predict(X_with_zeros)\n",
    "d=final_team13.load_model('reg_models/LinearRegression_scaled.sav').predict(X_with_zeros)\n",
    "e=final_team13.load_model('reg_models/DecisionTreeRegressor.sav').predict(X_with_zeros)\n",
    "f=final_team13.load_model('reg_models/lasso.sav').predict(X_with_zeros)\n",
    "g=final_team13.load_model('reg_models/ridgereg.sav').predict(X_with_zeros)\n",
    "\n",
    "\n"
   ]
  },
  {
   "cell_type": "code",
   "execution_count": 9,
   "metadata": {},
   "outputs": [
    {
     "name": "stdout",
     "output_type": "stream",
     "text": [
      "Random Forest Accuracy: -0.09440820799916572\n",
      "LinearRegression_pca Accuracy: 6.0611561406576087e-05\n",
      "Decision Tree Accuracy: -0.3228079052155186\n",
      "LinearRegression_scaled Accuracy: -150667.21648040498\n",
      "DecisionTreeRegressor Accuracy: -0.15599775518287817\n",
      "lasso Accuracy: -62265.56977937679\n",
      "ridge Accuracy: -150666.80235411043\n"
     ]
    }
   ],
   "source": [
    "from sklearn.metrics import mean_squared_error, r2_score\n",
    "\n",
    "ground_truth_labels = Y  # Assuming Y contains the ground truth labels\n",
    "\n",
    "print(\"Random Forest Accuracy:\", r2_score(ground_truth_labels, a))\n",
    "print(\"LinearRegression_pca Accuracy:\", r2_score(ground_truth_labels, b))\n",
    "print(\"Decision Tree Accuracy:\", r2_score(ground_truth_labels, c))\n",
    "print(\"LinearRegression_scaled Accuracy:\", r2_score(ground_truth_labels, d))\n",
    "print(\"DecisionTreeRegressor Accuracy:\", r2_score(ground_truth_labels,e))\n",
    "print(\"lasso Accuracy:\", r2_score(ground_truth_labels,f))\n",
    "print(\"ridge Accuracy:\", r2_score(ground_truth_labels,g))"
   ]
  },
  {
   "cell_type": "code",
   "execution_count": null,
   "metadata": {},
   "outputs": [],
   "source": [
    "#h=final_team13.load_model('reg_models/Polynomial.sav').predict(X_poly)\n"
   ]
  },
  {
   "cell_type": "code",
   "execution_count": 5,
   "metadata": {},
   "outputs": [
    {
     "ename": "AttributeError",
     "evalue": "Can't get attribute 'nlp_model' on <module '__main__'>",
     "output_type": "error",
     "traceback": [
      "\u001b[1;31m---------------------------------------------------------------------------\u001b[0m",
      "\u001b[1;31mAttributeError\u001b[0m                            Traceback (most recent call last)",
      "\u001b[1;32me:\\hotel_ml_project\\reg_test_script.ipynb Cell 5\u001b[0m in \u001b[0;36m<cell line: 7>\u001b[1;34m()\u001b[0m\n\u001b[0;32m      <a href='vscode-notebook-cell:/e%3A/hotel_ml_project/reg_test_script.ipynb#W4sZmlsZQ%3D%3D?line=2'>3</a>\u001b[0m nlp_object \u001b[39m=\u001b[39m final_team13\u001b[39m.\u001b[39mNLPDataPreprocessor(a, b)\n\u001b[0;32m      <a href='vscode-notebook-cell:/e%3A/hotel_ml_project/reg_test_script.ipynb#W4sZmlsZQ%3D%3D?line=3'>4</a>\u001b[0m nlp_result \u001b[39m=\u001b[39m nlp_object\u001b[39m.\u001b[39mpreprocess_nlp(nlp_data)\n\u001b[1;32m----> <a href='vscode-notebook-cell:/e%3A/hotel_ml_project/reg_test_script.ipynb#W4sZmlsZQ%3D%3D?line=6'>7</a>\u001b[0m \u001b[39mprint\u001b[39m(final_team13\u001b[39m.\u001b[39;49mload_model(\u001b[39m'\u001b[39;49m\u001b[39mreg_models/id_nlp.sav\u001b[39;49m\u001b[39m'\u001b[39;49m)\u001b[39m.\u001b[39mpredict(a))\n\u001b[0;32m      <a href='vscode-notebook-cell:/e%3A/hotel_ml_project/reg_test_script.ipynb#W4sZmlsZQ%3D%3D?line=7'>8</a>\u001b[0m \u001b[39mprint\u001b[39m(final_team13\u001b[39m.\u001b[39mload_model(\u001b[39m'\u001b[39m\u001b[39mreg_models/gb_nlp.sav\u001b[39m\u001b[39m'\u001b[39m)\u001b[39m.\u001b[39mpredict(a))\n\u001b[0;32m     <a href='vscode-notebook-cell:/e%3A/hotel_ml_project/reg_test_script.ipynb#W4sZmlsZQ%3D%3D?line=9'>10</a>\u001b[0m \u001b[39mprint\u001b[39m(nlp_result)\n",
      "File \u001b[1;32me:\\hotel_ml_project\\final_team13.py:31\u001b[0m, in \u001b[0;36mload_model\u001b[1;34m(filename)\u001b[0m\n\u001b[0;32m     30\u001b[0m \u001b[39mdef\u001b[39;00m \u001b[39mload_model\u001b[39m(filename):\n\u001b[1;32m---> 31\u001b[0m     loaded_model \u001b[39m=\u001b[39m pickle\u001b[39m.\u001b[39;49mload(\u001b[39mopen\u001b[39;49m(filename, \u001b[39m'\u001b[39;49m\u001b[39mrb\u001b[39;49m\u001b[39m'\u001b[39;49m))\n\u001b[0;32m     32\u001b[0m     \u001b[39mreturn\u001b[39;00m loaded_model\n",
      "\u001b[1;31mAttributeError\u001b[0m: Can't get attribute 'nlp_model' on <module '__main__'>"
     ]
    }
   ],
   "source": [
    "a = nlp_data.drop('Reviewer_Score', axis=1)\n",
    "b = nlp_data['Reviewer_Score']\n",
    "nlp_object = final_team13.NLPDataPreprocessor(a, b)\n",
    "nlp_result = nlp_object.preprocess_nlp(nlp_data)\n",
    "\n",
    "\n",
    "print(final_team13.load_model('reg_models/id_nlp.sav').predict(a))\n",
    "print(final_team13.load_model('reg_models/gb_nlp.sav').predict(a))\n",
    "\n",
    "print(nlp_result)\n"
   ]
  }
 ],
 "metadata": {
  "kernelspec": {
   "display_name": "Python 3",
   "language": "python",
   "name": "python3"
  },
  "language_info": {
   "codemirror_mode": {
    "name": "ipython",
    "version": 3
   },
   "file_extension": ".py",
   "mimetype": "text/x-python",
   "name": "python",
   "nbconvert_exporter": "python",
   "pygments_lexer": "ipython3",
   "version": "3.9.11"
  },
  "orig_nbformat": 4
 },
 "nbformat": 4,
 "nbformat_minor": 2
}
